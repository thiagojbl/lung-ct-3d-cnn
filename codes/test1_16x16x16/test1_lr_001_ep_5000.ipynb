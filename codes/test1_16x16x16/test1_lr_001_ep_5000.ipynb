{
 "cells": [
  {
   "cell_type": "markdown",
   "metadata": {},
   "source": [
    "## Importando os pacotes"
   ]
  },
  {
   "cell_type": "code",
   "execution_count": 2,
   "metadata": {},
   "outputs": [],
   "source": [
    "import matplotlib.pyplot as plt\n",
    "%matplotlib inline\n",
    "import numpy as np\n",
    "import pandas as pd\n",
    "import glob\n",
    "import os\n",
    "import h5py\n",
    "\n",
    "from sklearn.preprocessing import minmax_scale\n",
    "from skimage import img_as_ubyte\n",
    "from skimage.transform import resize \n",
    "from sklearn.metrics import confusion_matrix, accuracy_score, cohen_kappa_score\n",
    "from sklearn.model_selection import train_test_split\n",
    "\n",
    "from keras.layers import Conv3D, MaxPool3D, Flatten, Dense\n",
    "from keras.layers import Dropout, Input, BatchNormalization\n",
    "from keras.utils import to_categorical\n",
    "from keras.losses import categorical_crossentropy\n",
    "from keras.optimizers import Adadelta\n",
    "from keras.models import load_model\n",
    "from keras.models import Model\n",
    "from keras.callbacks import ModelCheckpoint\n",
    "from keras.regularizers import l2\n",
    "from keras import regularizers\n",
    "\n",
    "import tensorflow as tf"
   ]
  },
  {
   "cell_type": "markdown",
   "metadata": {},
   "source": [
    "## Converter uint8"
   ]
  },
  {
   "cell_type": "code",
   "execution_count": 3,
   "metadata": {},
   "outputs": [],
   "source": [
    "def scaler_uint8(image):\n",
    "    shape = image.shape\n",
    "    image_scaled = minmax_scale(image.ravel(), feature_range=(0,255)).reshape(shape).astype(np.uint8)\n",
    "    return image_scaled"
   ]
  },
  {
   "cell_type": "markdown",
   "metadata": {},
   "source": [
    "# Lendo a base .npy"
   ]
  },
  {
   "cell_type": "code",
   "execution_count": 4,
   "metadata": {},
   "outputs": [],
   "source": [
    "def lendo_img_npy(paths):\n",
    "    slices = [resize(np.load(s), (16, 16, 16, 1), preserve_range=True) for s in paths] \n",
    "    return scaler_uint8(np.array(slices))"
   ]
  },
  {
   "cell_type": "markdown",
   "metadata": {},
   "source": [
    "# Lendo imagens (treino) - Nódulos ->  Benigno e Maligno"
   ]
  },
  {
   "cell_type": "code",
   "execution_count": 5,
   "metadata": {},
   "outputs": [],
   "source": [
    "def lendo_conjunto_all(path_benigno, path_maligno):\n",
    "    # Benigno\n",
    "    path_b = glob.glob(path_benigno)\n",
    "    images_b_npy = lendo_img_npy(path_b)\n",
    "    # Maligno \n",
    "    path_m = glob.glob(path_maligno)\n",
    "    images_m_npy = lendo_img_npy(path_m)\n",
    "    return(images_b_npy, images_m_npy)\n",
    "    "
   ]
  },
  {
   "cell_type": "markdown",
   "metadata": {},
   "source": [
    "# Lendo imagens - Nódulos ->  Benigno e Maligno"
   ]
  },
  {
   "cell_type": "code",
   "execution_count": 6,
   "metadata": {},
   "outputs": [],
   "source": [
    "path_treino_b = '../../dataset/training/benigno/*.npy'\n",
    "path_valid_b = '../../dataset/validation/benigno/*.npy'\n",
    "path_teste_b = '../../dataset/test/benigno/*.npy'\n",
    "\n",
    "path_treino_m = '../../dataset/training/maligno/*.npy'\n",
    "path_valid_m = '../../dataset/validation/maligno/*.npy'\n",
    "path_teste_m = '../../dataset/test/maligno/*.npy'\n",
    "\n",
    "treino_benigno, treino_maligno = lendo_conjunto_all(path_treino_b, path_treino_m)\n",
    "valid_benigno, valid_maligno = lendo_conjunto_all(path_valid_b, path_valid_m)\n",
    "teste_benigno, teste_maligno = lendo_conjunto_all(path_teste_b, path_teste_m)"
   ]
  },
  {
   "cell_type": "markdown",
   "metadata": {},
   "source": [
    "## Image Type "
   ]
  },
  {
   "cell_type": "code",
   "execution_count": 7,
   "metadata": {},
   "outputs": [
    {
     "name": "stdout",
     "output_type": "stream",
     "text": [
      "Type:  uint8\n",
      "Max:  253\n",
      "Min:  0\n"
     ]
    }
   ],
   "source": [
    "image = teste_benigno[0].copy()\n",
    "print('Type: ', image.dtype)\n",
    "print('Max: ', np.amax(image))\n",
    "print('Min: ', np.amin(image))\n",
    "    "
   ]
  },
  {
   "cell_type": "markdown",
   "metadata": {},
   "source": [
    "# Gerando os labels (Treino)"
   ]
  },
  {
   "cell_type": "code",
   "execution_count": 8,
   "metadata": {},
   "outputs": [
    {
     "name": "stdout",
     "output_type": "stream",
     "text": [
      "Treino Benigno:  668\n",
      "Treino Maligno:  271\n",
      "Tamanho do conjunto de treino: 939\n"
     ]
    }
   ],
   "source": [
    "labels_treino_0 = np.zeros((treino_benigno.shape[0])).astype(np.int)\n",
    "print('Treino Benigno: ', len(labels_treino_0))\n",
    "labels_treino_1 = np.ones((treino_maligno.shape[0])).astype(np.int)\n",
    "print('Treino Maligno: ', len(labels_treino_1))\n",
    "labels_treino = np.concatenate((labels_treino_0, labels_treino_1))\n",
    "print('Tamanho do conjunto de treino:', len(labels_treino))"
   ]
  },
  {
   "cell_type": "markdown",
   "metadata": {},
   "source": [
    "# Gerando os labels (Validação)"
   ]
  },
  {
   "cell_type": "code",
   "execution_count": 9,
   "metadata": {},
   "outputs": [
    {
     "name": "stdout",
     "output_type": "stream",
     "text": [
      "Validação Benigno :  96\n",
      "Validação Maligno :  39\n",
      "Tamanho do conjunto de validação: 135\n"
     ]
    }
   ],
   "source": [
    "labels_val_0 = np.zeros((valid_benigno.shape[0])).astype(np.int)\n",
    "print('Validação Benigno : ', len(labels_val_0))\n",
    "labels_val_1 = np.ones((valid_maligno.shape[0])).astype(np.int)\n",
    "print('Validação Maligno : ', len(labels_val_1))\n",
    "labels_valid = np.concatenate((labels_val_0, labels_val_1))\n",
    "print('Tamanho do conjunto de validação:', len(labels_valid))"
   ]
  },
  {
   "cell_type": "markdown",
   "metadata": {},
   "source": [
    "# Gerando os labels (Teste)"
   ]
  },
  {
   "cell_type": "code",
   "execution_count": 10,
   "metadata": {},
   "outputs": [
    {
     "name": "stdout",
     "output_type": "stream",
     "text": [
      "Teste Benigno :  192\n",
      "Teste Maligno :  79\n",
      "Tamanho do conjunto de teste: 271\n"
     ]
    }
   ],
   "source": [
    "labels_teste_0 = np.zeros((teste_benigno.shape[0])).astype(np.int)\n",
    "print('Teste Benigno : ', len(labels_teste_0))\n",
    "labels_teste_1 = np.ones((teste_maligno.shape[0])).astype(np.int)\n",
    "print('Teste Maligno : ', len(labels_teste_1))\n",
    "labels_teste = np.concatenate((labels_teste_0, labels_teste_1))\n",
    "print('Tamanho do conjunto de teste:', len(labels_teste))"
   ]
  },
  {
   "cell_type": "markdown",
   "metadata": {},
   "source": [
    "# Concatenar (Treino e Teste)"
   ]
  },
  {
   "cell_type": "code",
   "execution_count": 11,
   "metadata": {},
   "outputs": [
    {
     "name": "stdout",
     "output_type": "stream",
     "text": [
      "Shape das imagens de treino concatenada: (939, 16, 16, 16, 1)\n",
      "Shape das imagens de validação concatenada: (135, 16, 16, 16, 1)\n",
      "Shape das imagens de teste concatenada: (271, 16, 16, 16, 1)\n"
     ]
    }
   ],
   "source": [
    "base_train = np.concatenate((treino_benigno, treino_maligno))\n",
    "print('Shape das imagens de treino concatenada:', base_train.shape)\n",
    "\n",
    "base_valid = np.concatenate((valid_benigno, valid_maligno))\n",
    "print('Shape das imagens de validação concatenada:', base_valid.shape)\n",
    "\n",
    "base_teste = np.concatenate((teste_benigno, teste_maligno))\n",
    "print('Shape das imagens de teste concatenada:', base_teste.shape)"
   ]
  },
  {
   "cell_type": "markdown",
   "metadata": {},
   "source": [
    "# Embaralhar conjunto (Treino e Teste)"
   ]
  },
  {
   "cell_type": "code",
   "execution_count": 12,
   "metadata": {},
   "outputs": [
    {
     "name": "stdout",
     "output_type": "stream",
     "text": [
      "(939, 16, 16, 16, 1)\n"
     ]
    }
   ],
   "source": [
    "treino1, treino2 , labels_treino1, labels_treino2 = train_test_split(base_train, labels_treino, test_size = 0.5, random_state=42)\n",
    "x_train = np.concatenate((treino1, treino2))\n",
    "y_train = np.concatenate((labels_treino1, labels_treino2))\n",
    "print(x_train.shape)"
   ]
  },
  {
   "cell_type": "code",
   "execution_count": 13,
   "metadata": {},
   "outputs": [
    {
     "name": "stdout",
     "output_type": "stream",
     "text": [
      "(135, 16, 16, 16, 1)\n"
     ]
    }
   ],
   "source": [
    "valid1, valid2 , labels_valid1, labels_valid2 = train_test_split(base_valid, labels_valid, test_size = 0.5, random_state=42)\n",
    "x_valid = np.concatenate((valid1, valid2))\n",
    "y_valid = np.concatenate((labels_valid1, labels_valid2))\n",
    "print(x_valid.shape)"
   ]
  },
  {
   "cell_type": "code",
   "execution_count": 14,
   "metadata": {},
   "outputs": [
    {
     "name": "stdout",
     "output_type": "stream",
     "text": [
      "(271, 16, 16, 16, 1)\n"
     ]
    }
   ],
   "source": [
    "teste1, teste2 , labels_teste1, labels_teste2 = train_test_split(base_teste, labels_teste, test_size = 0.5, random_state=42)\n",
    "x_test = np.concatenate((teste1, teste2))\n",
    "y_test = np.concatenate((labels_teste1, labels_teste2))\n",
    "print(x_test.shape)"
   ]
  },
  {
   "cell_type": "markdown",
   "metadata": {},
   "source": [
    "## Normalização (Treino, Validação e Teste)"
   ]
  },
  {
   "cell_type": "code",
   "execution_count": 15,
   "metadata": {},
   "outputs": [],
   "source": [
    "x_train = x_train / 255.\n",
    "x_valid = x_valid / 255.\n",
    "x_test = x_test / 255."
   ]
  },
  {
   "cell_type": "markdown",
   "metadata": {},
   "source": [
    "## Imagens normalizadas"
   ]
  },
  {
   "cell_type": "code",
   "execution_count": 16,
   "metadata": {},
   "outputs": [
    {
     "name": "stdout",
     "output_type": "stream",
     "text": [
      "Type:  float64\n",
      "Max:  0.996078431372549\n",
      "Min:  0.0\n"
     ]
    }
   ],
   "source": [
    "image = x_test[4].copy()\n",
    "print('Type: ', image.dtype)\n",
    "print('Max: ', np.amax(image))\n",
    "print('Min: ', np.amin(image))"
   ]
  },
  {
   "cell_type": "markdown",
   "metadata": {},
   "source": [
    "# Convert target variable into one-hot"
   ]
  },
  {
   "cell_type": "code",
   "execution_count": 17,
   "metadata": {},
   "outputs": [],
   "source": [
    "y_train = to_categorical(y_train, 2)\n",
    "y_valid = to_categorical(y_valid, 2)\n",
    "y_test = to_categorical(y_test, 2)"
   ]
  },
  {
   "cell_type": "markdown",
   "metadata": {},
   "source": [
    "# Selected GPU"
   ]
  },
  {
   "cell_type": "code",
   "execution_count": 18,
   "metadata": {},
   "outputs": [],
   "source": [
    "os.environ[\"CUDA_DEVICE_ORDER\"]=\"PCI_BUS_ID\";  # The GPU id to use, usually either \"0\" or \"1\";\n",
    "os.environ[\"CUDA_VISIBLE_DEVICES\"]=\"0\";  # Do other imports now..."
   ]
  },
  {
   "cell_type": "markdown",
   "metadata": {},
   "source": [
    "## Camada de Entrada"
   ]
  },
  {
   "cell_type": "code",
   "execution_count": 19,
   "metadata": {},
   "outputs": [],
   "source": [
    "# input layer\n",
    "img_input = Input((16, 16, 16, 1))\n",
    "\n",
    "x = Conv3D(8, (3, 3 ,3), activation='relu', padding='same', name='block1_conv1', kernel_regularizer=regularizers.l2(0.0001))(img_input)\n",
    "x = Conv3D(16, (3, 3 ,3), activation='relu', padding='same', name='block1_conv2', kernel_regularizer=regularizers.l2(0.0001))(x)\n",
    "x = MaxPool3D((2, 2, 2), strides=(2, 2, 2), name='block1_pool')(x)\n",
    "\n",
    "pooling_layer2 = BatchNormalization()(x)\n",
    "flatten_layer = Flatten()(pooling_layer2)\n",
    "\n",
    "dense_layer1 = Dense(units=256, activation='relu', name='fc1', kernel_regularizer=regularizers.l2(0.0001))(flatten_layer)\n",
    "dense_layer1 = Dropout(0.4)(dense_layer1)\n",
    "dense_layer2 = Dense(units=128, activation='relu', name='fc2', kernel_regularizer=regularizers.l2(0.0001))(dense_layer1)\n",
    "dense_layer2 = Dropout(0.4)(dense_layer2)\n",
    "##Informar a quantidade de categoria \n",
    "output_layer = Dense(units=2, activation='softmax', name='predictions')(dense_layer2)\n",
    "\n",
    "## define o modelo com a camada de entrada e a de saída\n",
    "model = Model(inputs=img_input, outputs=output_layer) "
   ]
  },
  {
   "cell_type": "code",
   "execution_count": 20,
   "metadata": {},
   "outputs": [
    {
     "name": "stdout",
     "output_type": "stream",
     "text": [
      "Model: \"model_1\"\n",
      "_________________________________________________________________\n",
      "Layer (type)                 Output Shape              Param #   \n",
      "=================================================================\n",
      "input_1 (InputLayer)         (None, 16, 16, 16, 1)     0         \n",
      "_________________________________________________________________\n",
      "block1_conv1 (Conv3D)        (None, 16, 16, 16, 8)     224       \n",
      "_________________________________________________________________\n",
      "block1_conv2 (Conv3D)        (None, 16, 16, 16, 16)    3472      \n",
      "_________________________________________________________________\n",
      "block1_pool (MaxPooling3D)   (None, 8, 8, 8, 16)       0         \n",
      "_________________________________________________________________\n",
      "batch_normalization_1 (Batch (None, 8, 8, 8, 16)       64        \n",
      "_________________________________________________________________\n",
      "flatten_1 (Flatten)          (None, 8192)              0         \n",
      "_________________________________________________________________\n",
      "fc1 (Dense)                  (None, 256)               2097408   \n",
      "_________________________________________________________________\n",
      "dropout_1 (Dropout)          (None, 256)               0         \n",
      "_________________________________________________________________\n",
      "fc2 (Dense)                  (None, 128)               32896     \n",
      "_________________________________________________________________\n",
      "dropout_2 (Dropout)          (None, 128)               0         \n",
      "_________________________________________________________________\n",
      "predictions (Dense)          (None, 2)                 258       \n",
      "=================================================================\n",
      "Total params: 2,134,322\n",
      "Trainable params: 2,134,290\n",
      "Non-trainable params: 32\n",
      "_________________________________________________________________\n"
     ]
    }
   ],
   "source": [
    "model.summary()"
   ]
  },
  {
   "cell_type": "markdown",
   "metadata": {},
   "source": [
    "## Treinando o modelo "
   ]
  },
  {
   "cell_type": "code",
   "execution_count": null,
   "metadata": {},
   "outputs": [],
   "source": [
    "checkpoint = ModelCheckpoint(\"model_history_t1/best_model_test1_lr_001_ep_5000.h5\", monitor='val_loss', verbose=1,\n",
    "    save_best_only=True, mode='auto', period=1)\n",
    "\n",
    "model.compile(loss=categorical_crossentropy, optimizer=Adadelta(lr=0.001, decay=0.0001), metrics=['acc'])\n",
    " \n",
    "hist = model.fit(x=x_train, \n",
    "                 y=y_train,  \n",
    "                 batch_size=128,  \n",
    "                 epochs=5000,  \n",
    "                 validation_data=(x_valid, y_valid), \n",
    "                 callbacks=[checkpoint])\n",
    "model.save(\"model_history_t1/model_test1_lr_001_ep_5000.h5.h5\")\n",
    "np.save('./model_history_t1/history_model_test1_lr_001_ep_5000', hist)"
   ]
  },
  {
   "cell_type": "markdown",
   "metadata": {},
   "source": [
    "## Predição"
   ]
  },
  {
   "cell_type": "code",
   "execution_count": 21,
   "metadata": {},
   "outputs": [],
   "source": [
    "def accuracy(x, y, modelo, name):\n",
    "    print('\\n', name)\n",
    "    pred = modelo.predict(x)\n",
    "    pred = np.argmax(pred, axis=1)\n",
    "    real = np.argmax(y, axis=1)\n",
    "    print('Matriz de confusão:\\n', confusion_matrix(real, pred))\n",
    "    print('Acurácia:', accuracy_score(real, pred))\n",
    "    print('Kappa: ', cohen_kappa_score(real, pred))\n",
    "    \n",
    "# accuracy(x_train, y_train, model, 'Treino:')\n",
    "# accuracy(x_valid, y_valid, model, 'Validação:')\n",
    "# accuracy(x_test, y_test, model, 'Teste:')"
   ]
  },
  {
   "cell_type": "markdown",
   "metadata": {},
   "source": [
    "## Todas as méticas "
   ]
  },
  {
   "cell_type": "code",
   "execution_count": 22,
   "metadata": {},
   "outputs": [],
   "source": [
    "def calc_metric(x, y, modelo):\n",
    "    #print(y_pred.shape,y_true.shape,np.unique(y_pred),np.unique(y_true))\n",
    "    pred = modelo.predict(x)\n",
    "    y_pred = np.argmax(pred, axis=1)\n",
    "    y_true = np.argmax(y, axis=1)\n",
    "    cm = confusion_matrix(y_pred.ravel(),y_true.ravel())\n",
    "    # tn -> Verdeiro Negativo\n",
    "    # fp -> Falso Positivo\n",
    "    # fn -> Falso Negativo\n",
    "    # tp -> Verdadeiro Positivo\n",
    "    tn, fp, fn, tp = cm.ravel()\n",
    "    dice = (2.0 * tp) / ((2.0 * tp) + fp + fn)\n",
    "    jaccard = (1.0 * tp) / (tp + fp + fn)\n",
    "    sensitivity = (1.0 * tp) / (tp + fn)\n",
    "    specificity = (1.0 * tn) / (tn + fp)\n",
    "    accuracy = (1.0 * (tn + tp)) / (tn + fp + tp + fn)\n",
    "    auc = 1 - 0.5 * (((1.0 * fp) / (fp + tn)) + ((1.0 * fn) / (fn + tp)))\n",
    "    prec = float(tp)/float(tp + fp)\n",
    "    fscore = float(2*tp)/float(2*tp + fp + fn)\n",
    "    kappa = cohen_kappa_score(y_pred, y_true)\n",
    "    return accuracy, kappa, sensitivity, specificity, auc"
   ]
  },
  {
   "cell_type": "markdown",
   "metadata": {},
   "source": [
    "# Realizando a predição\n"
   ]
  },
  {
   "cell_type": "code",
   "execution_count": 23,
   "metadata": {},
   "outputs": [],
   "source": [
    "def predict_model(url_model):\n",
    "    pred_model = load_model(url_model)\n",
    "    print('\\n-------------- Validação ------------------')\n",
    "    score = pred_model.evaluate(x_valid, y_valid, verbose=0)\n",
    "    print('loss:', score[0])\n",
    "    accuracy, kappa, sensitivity, specificity, auc = calc_metric(x_valid, y_valid, pred_model)\n",
    "    print('accuracy: ', accuracy)\n",
    "    print('kappa: ', kappa)\n",
    "    print('sensitivity: ', sensitivity)\n",
    "    print('specificity: ', specificity)\n",
    "    print('auc: ', auc)\n",
    "    \n",
    "    print('\\n-------------- Teste ------------------')\n",
    "    pred_model = load_model(url_model)\n",
    "    score = pred_model.evaluate(x_test, y_test, verbose=0)\n",
    "    print('loss:', score[0])\n",
    "    accuracy, kappa, sensitivity, specificity, auc = calc_metric(x_test, y_test, pred_model)\n",
    "    print('accuracy: ', accuracy)\n",
    "    print('kappa: ', kappa)\n",
    "    print('sensitivity: ', sensitivity)\n",
    "    print('specificity: ', specificity)\n",
    "    print('auc: ', auc)  "
   ]
  },
  {
   "cell_type": "code",
   "execution_count": null,
   "metadata": {},
   "outputs": [
    {
     "name": "stdout",
     "output_type": "stream",
     "text": [
      "\n",
      "Melhor Modelo:\n",
      "\n",
      "-------------- Validação ------------------\n",
      "loss: 0.34714615609910754\n",
      "accuracy:  0.8888888888888888\n",
      "kappa:  0.6998666073810582\n",
      "sensitivity:  0.9615384615384616\n",
      "specificity:  0.8715596330275229\n",
      "auc:  0.9165490472829922\n",
      "\n",
      "-------------- Teste ------------------\n"
     ]
    }
   ],
   "source": [
    "print('\\nMelhor Modelo:')\n",
    "predict_model(\"model_history_t1/best_model_test1_lr_001_ep_5000.h5\")\n",
    "print('\\nModelo Final:')\n",
    "predict_model(\"model_history_t1/model_test1_lr_001_ep_5000.h5\")"
   ]
  },
  {
   "cell_type": "markdown",
   "metadata": {},
   "source": [
    "# Plotando os gráfico (history), Acurácia e Erro (Treino e Validação)"
   ]
  },
  {
   "cell_type": "code",
   "execution_count": 39,
   "metadata": {},
   "outputs": [
    {
     "data": {
      "image/png": "[encoded data removed]",
      "text/plain": [
       "<Figure size 432x288 with 1 Axes>"
      ]
     },
     "metadata": {
      "needs_background": "light"
     },
     "output_type": "display_data"
    }
   ],
   "source": [
    "def plot_history(hist):\n",
    "    plt.plot(hist.history[\"acc\"])\n",
    "    plt.plot(hist.history['val_acc'])\n",
    "    plt.plot(hist.history['loss'])\n",
    "    plt.plot(hist.history['val_loss'])\n",
    "#     plt.title(\"model accuracy\")\n",
    "    plt.ylabel(\"Accuracy/Loss\")\n",
    "    plt.xlabel(\"Épocas\")\n",
    "    plt.legend([\"Accuracy (training)\",\"Accuracy (validation)\",\"Loss (training)\",\"Loss (validation)\"])\n",
    "    plt.savefig('model_history_t1/test1_lr_001_ep_5000.png')\n",
    "    plt.show()\n",
    "    \n",
    "history = np.load(\"model_history_t1/history_model_test1_lr_001_ep_5000.npy\",allow_pickle=True).item()\n",
    "plot_history(history)"
   ]
  },
  {
   "cell_type": "code",
   "execution_count": null,
   "metadata": {},
   "outputs": [],
   "source": []
  }
 ],
 "metadata": {
  "kernelspec": {
   "display_name": "Python 3",
   "language": "python",
   "name": "python3"
  },
  "language_info": {
   "codemirror_mode": {
    "name": "ipython",
    "version": 3
   },
   "file_extension": ".py",
   "mimetype": "text/x-python",
   "name": "python",
   "nbconvert_exporter": "python",
   "pygments_lexer": "ipython3",
   "version": "3.7.3"
  }
 },
 "nbformat": 4,
 "nbformat_minor": 4
}
